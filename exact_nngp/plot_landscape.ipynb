{
 "cells": [
  {
   "cell_type": "code",
   "execution_count": null,
   "metadata": {},
   "outputs": [],
   "source": [
    "import matplotlib.pyplot as plt\n",
    "import numpy as np\n",
    "import pandas as pd\n",
    "import os\n",
    "\n",
    "parent_path = f'../log_nngp_vs_nn/log_nngp_landscape'\n",
    "differ_csv_list = [run_i for run_i in sorted(os.listdir(parent_path)) if run_i.find('landscape_')!=-1]\n",
    "\n",
    "lood_type = 'kl'\n",
    "\n",
    "plt.clf()\n",
    "plt.figure(figsize = (4,3))\n",
    "ax = plt.gca()\n",
    "pert_list = []\n",
    "for i in range(len(differ_csv_list)):\n",
    "\n",
    "    differ_csv = differ_csv_list[i]\n",
    "\n",
    "    landscape = []\n",
    "    landscape_i = pd.read_csv(f'{parent_path}/{differ_csv}')\n",
    "    if i <30 and i!=7:\n",
    "        print(differ_csv)\n",
    "        color = next(ax._get_lines.prop_cycler)['color']\n",
    "        plt.plot(landscape_i['pert'], - landscape_i[lood_type], label=differ_csv.replace('landscape_', 'differ ').replace('.csv', ''), color = color)\n",
    "        plt.axvline(x = landscape_i['pert'][np.argmax(- landscape_i[lood_type])], linestyle = 'dashed', color = color)\n",
    "    pert_list.append(landscape_i['pert'][np.argmax(- landscape_i[lood_type])])\n",
    "plt.text(0.5, 1.1, f'pert for maximal {lood_type}: mean {np.mean(pert_list):.3f} (std {np.std(pert_list):.3f})', horizontalalignment='center', verticalalignment='top', transform=plt.gca().transAxes)\n",
    "print(f\"Perturbation scale for maximal LOOD ({lood_type}): avg {np.mean(pert_list):.3f} (std {np.std(pert_list):.3f})\")\n",
    "plt.xlabel('perturbation scale x', fontsize=12)\n",
    "plt.ylabel(f'LOOD ({lood_type})', fontsize=12)\n",
    "plt.savefig(f'{parent_path}/{lood_type}_landscape', bbox_inches='tight')\n",
    "print(pert_list)"
   ]
  }
 ],
 "metadata": {
  "kernelspec": {
   "display_name": "2022_myGP",
   "language": "python",
   "name": "python3"
  },
  "language_info": {
   "codemirror_mode": {
    "name": "ipython",
    "version": 3
   },
   "file_extension": ".py",
   "mimetype": "text/x-python",
   "name": "python",
   "nbconvert_exporter": "python",
   "pygments_lexer": "ipython3",
   "version": "3.8.15"
  },
  "orig_nbformat": 4
 },
 "nbformat": 4,
 "nbformat_minor": 2
}
