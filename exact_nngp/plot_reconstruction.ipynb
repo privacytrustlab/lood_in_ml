{
 "cells": [
  {
   "cell_type": "code",
   "execution_count": null,
   "metadata": {},
   "outputs": [],
   "source": [
    "import pandas as pd\n",
    "import matplotlib.pyplot as plt\n",
    "import numpy as np\n",
    "\n",
    "from plot import *\n",
    "\n",
    "folder = f'log_gap_kl_cifar10/{os.listdir(\"log_gap_kl_cifar10\")[0]}'\n",
    "plot_one_folder(folder)"
   ]
  },
  {
   "cell_type": "code",
   "execution_count": null,
   "metadata": {},
   "outputs": [],
   "source": [
    "df = pd.read_csv(f\"{folder}/kl.csv\")\n",
    "\n",
    "loss_gap = df['Optimized Query'] - df['Differing Data']\n",
    "all_indices = list(np.argsort(list(df['Optimized Query'])))\n",
    "loss_gap = loss_gap[all_indices]\n",
    "\n",
    "plt.figure(figsize=(3, 2))\n",
    "plt.hist(loss_gap, bins=20)\n",
    "plt.ylabel('Frequency', fontsize = 14)\n",
    "plt.xlabel('Prediction gap between query and\\ndiffering data in KL divergence')\n",
    "plt.savefig(f'{folder}/loss_gap.pdf', bbox_inches='tight')"
   ]
  },
  {
   "cell_type": "code",
   "execution_count": null,
   "metadata": {},
   "outputs": [],
   "source": [
    "datafile = np.load(f\"{folder}/differ_images_and_query.npz\")"
   ]
  },
  {
   "cell_type": "code",
   "execution_count": null,
   "metadata": {},
   "outputs": [],
   "source": [
    "differing_images = datafile['differ']\n",
    "queries = datafile['query']"
   ]
  },
  {
   "cell_type": "code",
   "execution_count": null,
   "metadata": {},
   "outputs": [],
   "source": [
    "num_col_per_page = 12\n",
    "num_row_per_page = 8\n",
    "\n",
    "for subpart in range(len(all_indices)//(num_col_per_page*num_row_per_page)):\n",
    "    plt.clf()\n",
    "    fig, axes = plt.subplots(2*num_row_per_page, num_col_per_page, figsize = (36, 54))\n",
    "    plt.setp(axes, xticks=[], yticks=[])\n",
    "    for i in range(num_col_per_page*num_row_per_page):\n",
    "        img_idx = all_indices[subpart*num_col_per_page*num_row_per_page + i]\n",
    "        plt.setp(axes, xticks=[], yticks=[])\n",
    "        axes[i//num_col_per_page*2][i%num_col_per_page].imshow(np.clip(differing_images[img_idx]/np.amax(differing_images[img_idx]), 0, 1))\n",
    "        axes[i//num_col_per_page*2][i%num_col_per_page].set_title(f\"differ image\\nLOOD:{-df['Differing Data'][img_idx]:.5f}\")\n",
    "        axes[i//num_col_per_page*2+1][i%num_col_per_page].imshow(np.clip(queries[img_idx]/np.amax(queries[img_idx]), 0, 1))\n",
    "        axes[i//num_col_per_page*2+1][i%num_col_per_page].set_title(f\"opt query\\nLOOD:{-df['Optimized Query'][img_idx]:.5f}\")\n",
    "    plt.savefig(f\"{folder}/reconstruction_{subpart*num_col_per_page*num_row_per_page}_to_{(subpart+1)*num_col_per_page*num_row_per_page}.pdf\", bbox_inches='tight')"
   ]
  },
  {
   "cell_type": "code",
   "execution_count": null,
   "metadata": {},
   "outputs": [],
   "source": [
    "plt.clf()\n",
    "if (len(all_indices)%(num_col_per_page*num_row_per_page) !=0):\n",
    "    num_remain_rows = (len(all_indices)%(num_col_per_page*num_row_per_page))//num_col_per_page\n",
    "    if (len(all_indices)%(num_col_per_page*num_row_per_page))%num_col_per_page!=0:\n",
    "        num_remain_rows = num_remain_rows + 1\n",
    "    fig, axes = plt.subplots(num_remain_rows * 2, num_col_per_page, figsize = (36, num_remain_rows * 6.75))\n",
    "    plt.setp(axes, xticks=[], yticks=[])\n",
    "    for i in range(len(all_indices)%(num_col_per_page*num_row_per_page)):\n",
    "        img_idx = all_indices[num_col_per_page*num_row_per_page* (len(all_indices)//(num_col_per_page*num_row_per_page)) + i]\n",
    "        plt.setp(axes, xticks=[], yticks=[])\n",
    "        axes[i//num_col_per_page*2][i%num_col_per_page].imshow(np.clip(differing_images[img_idx]/np.amax(differing_images[img_idx]), 0, 1))\n",
    "        axes[i//num_col_per_page*2][i%num_col_per_page].set_title(f\"differ image\\nLOOD:{-df['Differing Data'][img_idx]:.5f}\")\n",
    "        axes[i//num_col_per_page*2+1][i%num_col_per_page].imshow(np.clip(queries[img_idx]/np.amax(queries[img_idx]), 0, 1))\n",
    "        axes[i//num_col_per_page*2+1][i%num_col_per_page].set_title(f\"opt query\\nLOOD:{-df['Optimized Query'][img_idx]:.5f}\")\n",
    "    plt.savefig(f\"{folder}/reconstruction_{num_col_per_page*num_row_per_page* (len(all_indices)//(num_col_per_page*num_row_per_page))}_to_{len(all_indices)}.pdf\", bbox_inches='tight')"
   ]
  }
 ],
 "metadata": {
  "kernelspec": {
   "display_name": "2022_myGP",
   "language": "python",
   "name": "python3"
  },
  "language_info": {
   "codemirror_mode": {
    "name": "ipython",
    "version": 3
   },
   "file_extension": ".py",
   "mimetype": "text/x-python",
   "name": "python",
   "nbconvert_exporter": "python",
   "pygments_lexer": "ipython3",
   "version": "3.8.15"
  },
  "orig_nbformat": 4
 },
 "nbformat": 4,
 "nbformat_minor": 2
}
