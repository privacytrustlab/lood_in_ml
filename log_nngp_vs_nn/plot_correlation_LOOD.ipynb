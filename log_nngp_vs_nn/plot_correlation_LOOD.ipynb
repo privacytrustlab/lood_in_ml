{
 "cells": [
  {
   "cell_type": "code",
   "execution_count": null,
   "metadata": {},
   "outputs": [],
   "source": [
    "import pandas as pd\n",
    "from scipy.stats import pearsonr\n",
    "\n",
    "df_nn = pd.read_csv('./log_nn/nn.csv')\n",
    "df_nngp = pd.read_csv('./log_nngp/nngp.csv')\n",
    "assert(sum(list(abs(df_nn['differ_idx'] - df_nngp['differ_idx'])))==0)\n",
    "differ_idx = list(df_nn['differ_idx'])\n",
    "auc_nn = list(df_nn['auc'])\n",
    "auc_std_nn = list(df_nn['auc_std'])\n",
    "diff_nn = list(df_nn['diff'])\n",
    "diff_nn_std = list(df_nn['diff_std'])\n",
    "auc_nngp = list(df_nngp['auc'])\n",
    "mse_nngp = list(df_nngp['mse'])\n",
    "\n",
    "pd.DataFrame.from_dict({'differ_idx': differ_idx,  'auc_nn': auc_nn, 'auc_std_nn': auc_std_nn, 'diff_nn': diff_nn, 'diff_nn_std': diff_nn_std, 'auc_nngp': auc_nngp, 'mse_nngp': mse_nngp}).to_csv('./NTK_relu.csv')"
   ]
  },
  {
   "cell_type": "code",
   "execution_count": null,
   "metadata": {},
   "outputs": [],
   "source": [
    "import matplotlib.pyplot as plt\n",
    "\n",
    "plt.scatter(auc_nngp, auc_nn)\n",
    "plt.xlabel('auc_nngp')\n",
    "plt.ylabel('auc_nn')\n",
    "if (len(auc_nngp)>= 2):\n",
    "    plt.title(f'(r={pearsonr(auc_nngp, auc_nn).statistic:.2f}, p={pearsonr(auc_nngp, auc_nn).pvalue:.2g})')"
   ]
  },
  {
   "cell_type": "code",
   "execution_count": null,
   "metadata": {},
   "outputs": [],
   "source": [
    "import numpy as np\n",
    "\n",
    "plt.scatter(np.sqrt(mse_nngp), np.sqrt(diff_nn))\n",
    "plt.xlabel('mean_difference_nngp')\n",
    "plt.ylabel('empirical_diff_nn')\n",
    "if (len(mse_nngp)>= 2):\n",
    "    plt.title(f'(r={pearsonr(np.sqrt(mse_nngp), np.sqrt(diff_nn)).statistic:.2f}, p={pearsonr(np.sqrt(mse_nngp), np.sqrt(diff_nn)).pvalue:.2g})')"
   ]
  }
 ],
 "metadata": {
  "kernelspec": {
   "display_name": "2022_myGP",
   "language": "python",
   "name": "python3"
  },
  "language_info": {
   "codemirror_mode": {
    "name": "ipython",
    "version": 3
   },
   "file_extension": ".py",
   "mimetype": "text/x-python",
   "name": "python",
   "nbconvert_exporter": "python",
   "pygments_lexer": "ipython3",
   "version": "3.8.15"
  },
  "orig_nbformat": 4
 },
 "nbformat": 4,
 "nbformat_minor": 2
}
