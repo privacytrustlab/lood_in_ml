{
 "cells": [
  {
   "cell_type": "code",
   "execution_count": null,
   "metadata": {},
   "outputs": [],
   "source": [
    "output_gelu_path = '../log_nngp_vs_nn/log_nn_gelu'\n",
    "output_relu_path = '../log_nngp_vs_nn/log_nn'\n",
    "output_gelu_nngp_path = '../log_nngp_vs_nn/log_nngp_gelu'\n",
    "output_relu_nngp_path = '../log_nngp_vs_nn/log_nngp'"
   ]
  },
  {
   "cell_type": "code",
   "execution_count": null,
   "metadata": {},
   "outputs": [],
   "source": [
    "import pandas as pd\n",
    "df_relu = pd.read_csv(f'{output_relu_path}/nn.csv')\n",
    "df_gelu = pd.read_csv(f'{output_gelu_path}/nn.csv')\n",
    "df_relu_nngp = pd.read_csv(f'{output_gelu_nngp_path}/nngp.csv')\n",
    "df_gelu_nngp = pd.read_csv(f'{output_relu_nngp_path}/nngp.csv')\n",
    "\n",
    "relu_aucs, relu_stds = df_relu['auc'], df_relu['auc_std']\n",
    "gelu_aucs, gelu_stds = df_gelu['auc'], df_gelu['auc_std']"
   ]
  },
  {
   "cell_type": "code",
   "execution_count": null,
   "metadata": {},
   "outputs": [],
   "source": [
    "df_relu"
   ]
  },
  {
   "cell_type": "code",
   "execution_count": null,
   "metadata": {},
   "outputs": [],
   "source": [
    "import matplotlib.pyplot as plt\n",
    "import numpy as np\n",
    "plt.figure(figsize=(5.5,4))\n",
    "plt.plot(np.linspace(min(relu_aucs), max(relu_aucs), 100), np.linspace(min(relu_aucs), max(relu_aucs), 100), '--', label = 'y=x', color = 'g')\n",
    "plt.scatter(relu_aucs, gelu_aucs, label = 'NN models', c='b')\n",
    "plt.errorbar(relu_aucs, gelu_aucs, xerr = relu_stds, yerr = gelu_stds, fmt=\"o\", alpha = 0.5)\n",
    "plt.scatter(df_relu_nngp['auc'], df_gelu_nngp['auc'], label = 'NNGP', c='r')\n",
    "plt.xlabel('Per-record leakage under ReLU', fontsize = 15)\n",
    "plt.ylabel('Per-record leakage under GELU', fontsize = 15)\n",
    "plt.legend(fontsize = 15, loc = 'lower right')\n",
    "plt.savefig('./per_record_leakage.png', bbox_inches='tight')"
   ]
  }
 ],
 "metadata": {
  "kernelspec": {
   "display_name": "2022_myGP",
   "language": "python",
   "name": "python3"
  },
  "language_info": {
   "codemirror_mode": {
    "name": "ipython",
    "version": 3
   },
   "file_extension": ".py",
   "mimetype": "text/x-python",
   "name": "python",
   "nbconvert_exporter": "python",
   "pygments_lexer": "ipython3",
   "version": "3.8.15"
  },
  "orig_nbformat": 4
 },
 "nbformat": 4,
 "nbformat_minor": 2
}
